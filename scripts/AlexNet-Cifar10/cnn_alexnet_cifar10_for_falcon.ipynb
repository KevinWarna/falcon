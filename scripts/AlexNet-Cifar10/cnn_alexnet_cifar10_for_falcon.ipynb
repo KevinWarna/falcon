{
  "cells": [
    {
      "cell_type": "markdown",
      "metadata": {
        "id": "UEBilEjLj5wY"
      },
      "source": [
        "Deep Learning Models -- A collection of various deep learning architectures, models, and tips for TensorFlow and PyTorch in Jupyter Notebooks.\n",
        "- Author: Sebastian Raschka\n",
        "- GitHub Repository: https://github.com/rasbt/deeplearning-models\n",
        "\n",
        "---"
      ]
    },
    {
      "cell_type": "markdown",
      "source": [
        "# IMPORTANT: Make sure that the helper scripts are reachable (i.e., upload them to Colab!!)"
      ],
      "metadata": {
        "id": "Tx65I2K5mIG_"
      }
    },
    {
      "cell_type": "code",
      "execution_count": null,
      "metadata": {
        "colab": {
          "base_uri": "https://localhost:8080/",
          "height": 419
        },
        "id": "GOzuY8Yvj5wb",
        "outputId": "473fb2b5-6aed-4d19-b2ae-12d7239fbaae"
      },
      "outputs": [
        {
          "output_type": "error",
          "ename": "ModuleNotFoundError",
          "evalue": "ignored",
          "traceback": [
            "\u001b[0;31m---------------------------------------------------------------------------\u001b[0m",
            "\u001b[0;31mModuleNotFoundError\u001b[0m                       Traceback (most recent call last)",
            "\u001b[0;32m<ipython-input-1-b805c9775896>\u001b[0m in \u001b[0;36m<module>\u001b[0;34m\u001b[0m\n\u001b[0;32m----> 1\u001b[0;31m \u001b[0mget_ipython\u001b[0m\u001b[0;34m(\u001b[0m\u001b[0;34m)\u001b[0m\u001b[0;34m.\u001b[0m\u001b[0mrun_line_magic\u001b[0m\u001b[0;34m(\u001b[0m\u001b[0;34m'load_ext'\u001b[0m\u001b[0;34m,\u001b[0m \u001b[0;34m'watermark'\u001b[0m\u001b[0;34m)\u001b[0m\u001b[0;34m\u001b[0m\u001b[0;34m\u001b[0m\u001b[0m\n\u001b[0m\u001b[1;32m      2\u001b[0m \u001b[0mget_ipython\u001b[0m\u001b[0;34m(\u001b[0m\u001b[0;34m)\u001b[0m\u001b[0;34m.\u001b[0m\u001b[0mrun_line_magic\u001b[0m\u001b[0;34m(\u001b[0m\u001b[0;34m'watermark'\u001b[0m\u001b[0;34m,\u001b[0m \u001b[0;34m\"-a 'Sebastian Raschka' -v -p torch\"\u001b[0m\u001b[0;34m)\u001b[0m\u001b[0;34m\u001b[0m\u001b[0;34m\u001b[0m\u001b[0m\n",
            "\u001b[0;32m/usr/local/lib/python3.8/dist-packages/IPython/core/interactiveshell.py\u001b[0m in \u001b[0;36mrun_line_magic\u001b[0;34m(self, magic_name, line, _stack_depth)\u001b[0m\n\u001b[1;32m   2312\u001b[0m                 \u001b[0mkwargs\u001b[0m\u001b[0;34m[\u001b[0m\u001b[0;34m'local_ns'\u001b[0m\u001b[0;34m]\u001b[0m \u001b[0;34m=\u001b[0m \u001b[0msys\u001b[0m\u001b[0;34m.\u001b[0m\u001b[0m_getframe\u001b[0m\u001b[0;34m(\u001b[0m\u001b[0mstack_depth\u001b[0m\u001b[0;34m)\u001b[0m\u001b[0;34m.\u001b[0m\u001b[0mf_locals\u001b[0m\u001b[0;34m\u001b[0m\u001b[0;34m\u001b[0m\u001b[0m\n\u001b[1;32m   2313\u001b[0m             \u001b[0;32mwith\u001b[0m \u001b[0mself\u001b[0m\u001b[0;34m.\u001b[0m\u001b[0mbuiltin_trap\u001b[0m\u001b[0;34m:\u001b[0m\u001b[0;34m\u001b[0m\u001b[0;34m\u001b[0m\u001b[0m\n\u001b[0;32m-> 2314\u001b[0;31m                 \u001b[0mresult\u001b[0m \u001b[0;34m=\u001b[0m \u001b[0mfn\u001b[0m\u001b[0;34m(\u001b[0m\u001b[0;34m*\u001b[0m\u001b[0margs\u001b[0m\u001b[0;34m,\u001b[0m \u001b[0;34m**\u001b[0m\u001b[0mkwargs\u001b[0m\u001b[0;34m)\u001b[0m\u001b[0;34m\u001b[0m\u001b[0;34m\u001b[0m\u001b[0m\n\u001b[0m\u001b[1;32m   2315\u001b[0m             \u001b[0;32mreturn\u001b[0m \u001b[0mresult\u001b[0m\u001b[0;34m\u001b[0m\u001b[0;34m\u001b[0m\u001b[0m\n\u001b[1;32m   2316\u001b[0m \u001b[0;34m\u001b[0m\u001b[0m\n",
            "\u001b[0;32m<decorator-gen-57>\u001b[0m in \u001b[0;36mload_ext\u001b[0;34m(self, module_str)\u001b[0m\n",
            "\u001b[0;32m/usr/local/lib/python3.8/dist-packages/IPython/core/magic.py\u001b[0m in \u001b[0;36m<lambda>\u001b[0;34m(f, *a, **k)\u001b[0m\n\u001b[1;32m    185\u001b[0m     \u001b[0;31m# but it's overkill for just that one bit of state.\u001b[0m\u001b[0;34m\u001b[0m\u001b[0;34m\u001b[0m\u001b[0;34m\u001b[0m\u001b[0m\n\u001b[1;32m    186\u001b[0m     \u001b[0;32mdef\u001b[0m \u001b[0mmagic_deco\u001b[0m\u001b[0;34m(\u001b[0m\u001b[0marg\u001b[0m\u001b[0;34m)\u001b[0m\u001b[0;34m:\u001b[0m\u001b[0;34m\u001b[0m\u001b[0;34m\u001b[0m\u001b[0m\n\u001b[0;32m--> 187\u001b[0;31m         \u001b[0mcall\u001b[0m \u001b[0;34m=\u001b[0m \u001b[0;32mlambda\u001b[0m \u001b[0mf\u001b[0m\u001b[0;34m,\u001b[0m \u001b[0;34m*\u001b[0m\u001b[0ma\u001b[0m\u001b[0;34m,\u001b[0m \u001b[0;34m**\u001b[0m\u001b[0mk\u001b[0m\u001b[0;34m:\u001b[0m \u001b[0mf\u001b[0m\u001b[0;34m(\u001b[0m\u001b[0;34m*\u001b[0m\u001b[0ma\u001b[0m\u001b[0;34m,\u001b[0m \u001b[0;34m**\u001b[0m\u001b[0mk\u001b[0m\u001b[0;34m)\u001b[0m\u001b[0;34m\u001b[0m\u001b[0;34m\u001b[0m\u001b[0m\n\u001b[0m\u001b[1;32m    188\u001b[0m \u001b[0;34m\u001b[0m\u001b[0m\n\u001b[1;32m    189\u001b[0m         \u001b[0;32mif\u001b[0m \u001b[0mcallable\u001b[0m\u001b[0;34m(\u001b[0m\u001b[0marg\u001b[0m\u001b[0;34m)\u001b[0m\u001b[0;34m:\u001b[0m\u001b[0;34m\u001b[0m\u001b[0;34m\u001b[0m\u001b[0m\n",
            "\u001b[0;32m/usr/local/lib/python3.8/dist-packages/IPython/core/magics/extension.py\u001b[0m in \u001b[0;36mload_ext\u001b[0;34m(self, module_str)\u001b[0m\n\u001b[1;32m     31\u001b[0m         \u001b[0;32mif\u001b[0m \u001b[0;32mnot\u001b[0m \u001b[0mmodule_str\u001b[0m\u001b[0;34m:\u001b[0m\u001b[0;34m\u001b[0m\u001b[0;34m\u001b[0m\u001b[0m\n\u001b[1;32m     32\u001b[0m             \u001b[0;32mraise\u001b[0m \u001b[0mUsageError\u001b[0m\u001b[0;34m(\u001b[0m\u001b[0;34m'Missing module name.'\u001b[0m\u001b[0;34m)\u001b[0m\u001b[0;34m\u001b[0m\u001b[0;34m\u001b[0m\u001b[0m\n\u001b[0;32m---> 33\u001b[0;31m         \u001b[0mres\u001b[0m \u001b[0;34m=\u001b[0m \u001b[0mself\u001b[0m\u001b[0;34m.\u001b[0m\u001b[0mshell\u001b[0m\u001b[0;34m.\u001b[0m\u001b[0mextension_manager\u001b[0m\u001b[0;34m.\u001b[0m\u001b[0mload_extension\u001b[0m\u001b[0;34m(\u001b[0m\u001b[0mmodule_str\u001b[0m\u001b[0;34m)\u001b[0m\u001b[0;34m\u001b[0m\u001b[0;34m\u001b[0m\u001b[0m\n\u001b[0m\u001b[1;32m     34\u001b[0m \u001b[0;34m\u001b[0m\u001b[0m\n\u001b[1;32m     35\u001b[0m         \u001b[0;32mif\u001b[0m \u001b[0mres\u001b[0m \u001b[0;34m==\u001b[0m \u001b[0;34m'already loaded'\u001b[0m\u001b[0;34m:\u001b[0m\u001b[0;34m\u001b[0m\u001b[0;34m\u001b[0m\u001b[0m\n",
            "\u001b[0;32m/usr/local/lib/python3.8/dist-packages/IPython/core/extensions.py\u001b[0m in \u001b[0;36mload_extension\u001b[0;34m(self, module_str)\u001b[0m\n\u001b[1;32m     78\u001b[0m             \u001b[0;32mif\u001b[0m \u001b[0mmodule_str\u001b[0m \u001b[0;32mnot\u001b[0m \u001b[0;32min\u001b[0m \u001b[0msys\u001b[0m\u001b[0;34m.\u001b[0m\u001b[0mmodules\u001b[0m\u001b[0;34m:\u001b[0m\u001b[0;34m\u001b[0m\u001b[0;34m\u001b[0m\u001b[0m\n\u001b[1;32m     79\u001b[0m                 \u001b[0;32mwith\u001b[0m \u001b[0mprepended_to_syspath\u001b[0m\u001b[0;34m(\u001b[0m\u001b[0mself\u001b[0m\u001b[0;34m.\u001b[0m\u001b[0mipython_extension_dir\u001b[0m\u001b[0;34m)\u001b[0m\u001b[0;34m:\u001b[0m\u001b[0;34m\u001b[0m\u001b[0;34m\u001b[0m\u001b[0m\n\u001b[0;32m---> 80\u001b[0;31m                     \u001b[0mmod\u001b[0m \u001b[0;34m=\u001b[0m \u001b[0mimport_module\u001b[0m\u001b[0;34m(\u001b[0m\u001b[0mmodule_str\u001b[0m\u001b[0;34m)\u001b[0m\u001b[0;34m\u001b[0m\u001b[0;34m\u001b[0m\u001b[0m\n\u001b[0m\u001b[1;32m     81\u001b[0m                     \u001b[0;32mif\u001b[0m \u001b[0mmod\u001b[0m\u001b[0;34m.\u001b[0m\u001b[0m__file__\u001b[0m\u001b[0;34m.\u001b[0m\u001b[0mstartswith\u001b[0m\u001b[0;34m(\u001b[0m\u001b[0mself\u001b[0m\u001b[0;34m.\u001b[0m\u001b[0mipython_extension_dir\u001b[0m\u001b[0;34m)\u001b[0m\u001b[0;34m:\u001b[0m\u001b[0;34m\u001b[0m\u001b[0;34m\u001b[0m\u001b[0m\n\u001b[1;32m     82\u001b[0m                         print((\"Loading extensions from {dir} is deprecated. \"\n",
            "\u001b[0;32m/usr/lib/python3.8/importlib/__init__.py\u001b[0m in \u001b[0;36mimport_module\u001b[0;34m(name, package)\u001b[0m\n\u001b[1;32m    125\u001b[0m                 \u001b[0;32mbreak\u001b[0m\u001b[0;34m\u001b[0m\u001b[0;34m\u001b[0m\u001b[0m\n\u001b[1;32m    126\u001b[0m             \u001b[0mlevel\u001b[0m \u001b[0;34m+=\u001b[0m \u001b[0;36m1\u001b[0m\u001b[0;34m\u001b[0m\u001b[0;34m\u001b[0m\u001b[0m\n\u001b[0;32m--> 127\u001b[0;31m     \u001b[0;32mreturn\u001b[0m \u001b[0m_bootstrap\u001b[0m\u001b[0;34m.\u001b[0m\u001b[0m_gcd_import\u001b[0m\u001b[0;34m(\u001b[0m\u001b[0mname\u001b[0m\u001b[0;34m[\u001b[0m\u001b[0mlevel\u001b[0m\u001b[0;34m:\u001b[0m\u001b[0;34m]\u001b[0m\u001b[0;34m,\u001b[0m \u001b[0mpackage\u001b[0m\u001b[0;34m,\u001b[0m \u001b[0mlevel\u001b[0m\u001b[0;34m)\u001b[0m\u001b[0;34m\u001b[0m\u001b[0;34m\u001b[0m\u001b[0m\n\u001b[0m\u001b[1;32m    128\u001b[0m \u001b[0;34m\u001b[0m\u001b[0m\n\u001b[1;32m    129\u001b[0m \u001b[0;34m\u001b[0m\u001b[0m\n",
            "\u001b[0;32m/usr/lib/python3.8/importlib/_bootstrap.py\u001b[0m in \u001b[0;36m_gcd_import\u001b[0;34m(name, package, level)\u001b[0m\n",
            "\u001b[0;32m/usr/lib/python3.8/importlib/_bootstrap.py\u001b[0m in \u001b[0;36m_find_and_load\u001b[0;34m(name, import_)\u001b[0m\n",
            "\u001b[0;32m/usr/lib/python3.8/importlib/_bootstrap.py\u001b[0m in \u001b[0;36m_find_and_load_unlocked\u001b[0;34m(name, import_)\u001b[0m\n",
            "\u001b[0;31mModuleNotFoundError\u001b[0m: No module named 'watermark'",
            "",
            "\u001b[0;31m---------------------------------------------------------------------------\u001b[0;32m\nNOTE: If your import is failing due to a missing package, you can\nmanually install dependencies using either !pip or !apt.\n\nTo view examples of installing some common dependencies, click the\n\"Open Examples\" button below.\n\u001b[0;31m---------------------------------------------------------------------------\u001b[0m\n"
          ],
          "errorDetails": {
            "actions": [
              {
                "action": "open_url",
                "actionText": "Open Examples",
                "url": "/notebooks/snippets/importing_libraries.ipynb"
              }
            ]
          }
        }
      ],
      "source": [
        "%load_ext watermark\n",
        "%watermark -a 'Sebastian Raschka' -v -p torch"
      ]
    },
    {
      "cell_type": "markdown",
      "metadata": {
        "id": "rH4XmErYj5wm"
      },
      "source": [
        "# AlexNet CIFAR-10 Classifier"
      ]
    },
    {
      "cell_type": "markdown",
      "metadata": {
        "id": "ENv0-rzSX7OJ"
      },
      "source": [
        "### Network Architecture"
      ]
    },
    {
      "cell_type": "markdown",
      "metadata": {
        "id": "agooUmpyX7OJ"
      },
      "source": [
        "References\n",
        "    \n",
        "- [1] Krizhevsky, Alex, Ilya Sutskever, and Geoffrey E. Hinton. \"[Imagenet classification with deep convolutional neural networks.](https://papers.nips.cc/paper/4824-imagenet-classification-with-deep-convolutional-neural-networks.pdf)\" In Advances in Neural Information Processing Systems, pp. 1097-1105. 2012.\n"
      ]
    },
    {
      "cell_type": "markdown",
      "metadata": {
        "id": "MkoGLH_Tj5wn"
      },
      "source": [
        "## Imports"
      ]
    },
    {
      "cell_type": "code",
      "execution_count": null,
      "metadata": {
        "id": "ORj09gnrj5wp"
      },
      "outputs": [],
      "source": [
        "import os\n",
        "import time\n",
        "import random\n",
        "\n",
        "import numpy as np\n",
        "import pandas as pd\n",
        "\n",
        "import torch\n",
        "import torch.nn as nn\n",
        "import torch.nn.functional as F\n",
        "from torch.utils.data import DataLoader\n",
        "from torch.utils.data.dataset import Subset\n",
        "\n",
        "from torchvision import datasets\n",
        "from torchvision import transforms\n",
        "\n",
        "import matplotlib.pyplot as plt\n",
        "from PIL import Image\n",
        "\n",
        "\n",
        "if torch.cuda.is_available():\n",
        "    torch.backends.cudnn.deterministic = True"
      ]
    },
    {
      "cell_type": "markdown",
      "metadata": {
        "id": "I6hghKPxj5w0"
      },
      "source": [
        "## Model Settings"
      ]
    },
    {
      "cell_type": "markdown",
      "metadata": {
        "id": "yLVvKjQtX7OM"
      },
      "source": [
        "#### Setting a random seed"
      ]
    },
    {
      "cell_type": "markdown",
      "metadata": {
        "id": "YI_KAU-mX7OO"
      },
      "source": [
        "I recommend using a function like the following one prior to using dataset loaders and initializing a model if you want to ensure the data is shuffled in the same manner if you rerun this notebook and the model gets the same initial random weights:"
      ]
    },
    {
      "cell_type": "code",
      "execution_count": null,
      "metadata": {
        "id": "wIFuLJ0sX7OP"
      },
      "outputs": [],
      "source": [
        "def set_all_seeds(seed):\n",
        "    os.environ[\"PL_GLOBAL_SEED\"] = str(seed)\n",
        "    random.seed(seed)\n",
        "    np.random.seed(seed)\n",
        "    torch.manual_seed(seed)\n",
        "    torch.cuda.manual_seed_all(seed)"
      ]
    },
    {
      "cell_type": "markdown",
      "metadata": {
        "id": "XBWQkqATX7OP"
      },
      "source": [
        "#### Setting cuDNN and PyTorch algorithmic behavior to deterministic"
      ]
    },
    {
      "cell_type": "markdown",
      "metadata": {
        "id": "lyCuFTe1X7OQ"
      },
      "source": [
        "Similar to the `set_all_seeds` function above, I recommend setting the behavior of PyTorch and cuDNN to deterministic (this is particulary relevant when using GPUs). We can also define a function for that:"
      ]
    },
    {
      "cell_type": "code",
      "execution_count": null,
      "metadata": {
        "id": "vgm-dG2nX7OQ"
      },
      "outputs": [],
      "source": [
        "def set_deterministic():\n",
        "    if torch.cuda.is_available():\n",
        "        torch.backends.cudnn.benchmark = False\n",
        "        torch.backends.cudnn.deterministic = True\n",
        "    torch.set_deterministic(True)"
      ]
    },
    {
      "cell_type": "code",
      "execution_count": null,
      "metadata": {
        "id": "NnT0sZIwj5wu"
      },
      "outputs": [],
      "source": [
        "##########################\n",
        "### SETTINGS\n",
        "##########################\n",
        "\n",
        "# Hyperparameters\n",
        "RANDOM_SEED = 1\n",
        "LEARNING_RATE = 0.0001\n",
        "BATCH_SIZE = 256\n",
        "NUM_EPOCHS = 40\n",
        "\n",
        "# Architecture\n",
        "NUM_CLASSES = 10\n",
        "\n",
        "# Other\n",
        "DEVICE = \"cuda:0\"\n",
        "\n",
        "set_all_seeds(RANDOM_SEED)\n",
        "\n",
        "# Deterministic behavior not yet supported by AdaptiveAvgPool2d\n",
        "#set_deterministic()"
      ]
    },
    {
      "cell_type": "markdown",
      "metadata": {
        "id": "Ecn6jlp9X7OR"
      },
      "source": [
        "#### Import utility functions"
      ]
    },
    {
      "cell_type": "code",
      "execution_count": null,
      "metadata": {
        "id": "EWV52yy-X7OR"
      },
      "outputs": [],
      "source": [
        "import sys\n",
        "\n",
        "sys.path.insert(0, \"..\") # to include ../helper_evaluate.py etc.\n",
        "\n",
        "from helper_evaluate import compute_accuracy\n",
        "from helper_data import get_dataloaders_cifar10\n",
        "from helper_train import train_classifier_simple_v1"
      ]
    },
    {
      "cell_type": "markdown",
      "metadata": {
        "id": "0edB2-mlX7OS"
      },
      "source": [
        "## Dataset"
      ]
    },
    {
      "cell_type": "code",
      "execution_count": null,
      "metadata": {
        "colab": {
          "base_uri": "https://localhost:8080/",
          "height": 84,
          "referenced_widgets": [
            "8dce415995de411caebfef5a966afcae",
            "c935ab1cecc0431baee8596a297162fc",
            "283320ccfcd1442f97d1742144f05abc",
            "9f0394da24b74282bebe029f4d7d8a5b",
            "cd9fba44ceac479ba3b752732f9500f9",
            "5f842114a7e649c9bed8b908728d082c",
            "5b6b153b6ef34eae972d7b8d74fadfa5",
            "35f62f41c1ad47638d8ba81d1a0b4f53",
            "c5884982df994bce8c31f19fcd1bed50",
            "f3b7c75d29d9485dac9531abeae6e60e",
            "c83da3a157c54d84837d47c3b5c78cea"
          ]
        },
        "id": "JLYJw-p8X7OT",
        "outputId": "2ed1b7b5-09ba-40d4-b6d4-85b08e9561d6"
      },
      "outputs": [
        {
          "output_type": "stream",
          "name": "stdout",
          "text": [
            "Downloading https://www.cs.toronto.edu/~kriz/cifar-10-python.tar.gz to data/cifar-10-python.tar.gz\n"
          ]
        },
        {
          "output_type": "display_data",
          "data": {
            "text/plain": [
              "  0%|          | 0/170498071 [00:00<?, ?it/s]"
            ],
            "application/vnd.jupyter.widget-view+json": {
              "version_major": 2,
              "version_minor": 0,
              "model_id": "8dce415995de411caebfef5a966afcae"
            }
          },
          "metadata": {}
        },
        {
          "output_type": "stream",
          "name": "stdout",
          "text": [
            "Extracting data/cifar-10-python.tar.gz to data\n"
          ]
        }
      ],
      "source": [
        "### Set random seed ###\n",
        "set_all_seeds(RANDOM_SEED)\n",
        "\n",
        "##########################\n",
        "### Dataset\n",
        "##########################\n",
        "\n",
        "train_transforms = transforms.Compose([transforms.Resize((40, 40)),\n",
        "                                       transforms.RandomCrop((33, 33)),\n",
        "                                       transforms.ToTensor()])\n",
        "\n",
        "test_transforms = transforms.Compose([transforms.Resize((40, 40)),\n",
        "                                      transforms.CenterCrop((33, 33)),\n",
        "                                      transforms.ToTensor()])\n",
        "\n",
        "\n",
        "train_loader, valid_loader, test_loader = get_dataloaders_cifar10(\n",
        "    batch_size=BATCH_SIZE, \n",
        "    num_workers=2, \n",
        "    train_transforms=train_transforms,\n",
        "    test_transforms=test_transforms,\n",
        "    validation_fraction=0.1)"
      ]
    },
    {
      "cell_type": "code",
      "execution_count": null,
      "metadata": {
        "colab": {
          "base_uri": "https://localhost:8080/"
        },
        "id": "cC4mkm4IX7OT",
        "outputId": "26f271d8-f51b-415e-a2b3-36436c3d1182"
      },
      "outputs": [
        {
          "output_type": "stream",
          "name": "stdout",
          "text": [
            "Training Set:\n",
            "\n",
            "Image batch dimensions: torch.Size([256, 3, 33, 33])\n",
            "Image label dimensions: torch.Size([256])\n",
            "tensor([0, 2, 3, 5, 4, 8, 9, 6, 9, 7])\n",
            "\n",
            "Validation Set:\n",
            "Image batch dimensions: torch.Size([256, 3, 33, 33])\n",
            "Image label dimensions: torch.Size([256])\n",
            "tensor([6, 9, 3, 5, 7, 3, 4, 1, 8, 0])\n",
            "\n",
            "Testing Set:\n",
            "Image batch dimensions: torch.Size([256, 3, 33, 33])\n",
            "Image label dimensions: torch.Size([256])\n",
            "tensor([2, 6, 3, 1, 1, 1, 1, 2, 4, 8])\n"
          ]
        }
      ],
      "source": [
        "# Checking the dataset\n",
        "print('Training Set:\\n')\n",
        "for images, labels in train_loader:  \n",
        "    print('Image batch dimensions:', images.size())\n",
        "    print('Image label dimensions:', labels.size())\n",
        "    print(labels[:10])\n",
        "    break\n",
        "    \n",
        "# Checking the dataset\n",
        "print('\\nValidation Set:')\n",
        "for images, labels in valid_loader:  \n",
        "    print('Image batch dimensions:', images.size())\n",
        "    print('Image label dimensions:', labels.size())\n",
        "    print(labels[:10])\n",
        "    break\n",
        "\n",
        "# Checking the dataset\n",
        "print('\\nTesting Set:')\n",
        "for images, labels in train_loader:  \n",
        "    print('Image batch dimensions:', images.size())\n",
        "    print('Image label dimensions:', labels.size())\n",
        "    print(labels[:10])\n",
        "    break"
      ]
    },
    {
      "cell_type": "markdown",
      "metadata": {
        "id": "x2wcH66cX7OT"
      },
      "source": [
        "## Model"
      ]
    },
    {
      "cell_type": "code",
      "execution_count": null,
      "metadata": {
        "id": "Rk1J4lfgX7OT"
      },
      "outputs": [],
      "source": [
        "##########################\n",
        "### MODEL\n",
        "##########################\n",
        "\n",
        "class AlexNet(nn.Module):\n",
        "\n",
        "    def __init__(self, num_classes):\n",
        "        super(AlexNet, self).__init__()\n",
        "        self.features = nn.Sequential(\n",
        "            nn.Conv2d(3, 96, kernel_size=11, stride=4, padding=9),\n",
        "            nn.ReLU(inplace=True),\n",
        "            nn.MaxPool2d(kernel_size=3, stride=2),\n",
        "            \n",
        "            nn.Conv2d(96, 256, kernel_size=5, stride=1, padding=1),\n",
        "            nn.ReLU(inplace=True),\n",
        "            nn.MaxPool2d(kernel_size=3, stride=2),\n",
        "            \n",
        "            nn.Conv2d(256, 384, kernel_size=3, stride=1, padding=1),\n",
        "            nn.ReLU(inplace=True),\n",
        "            \n",
        "            nn.Conv2d(384, 384, kernel_size=3, stride=1, padding=1),\n",
        "            nn.ReLU(inplace=True),\n",
        "            \n",
        "            nn.Conv2d(384, 256, kernel_size=3, stride=1, padding=1),\n",
        "            nn.ReLU(inplace=True),\n",
        "            # nn.MaxPool2d(kernel_size=3, stride=2),\n",
        "        )\n",
        "        # self.avgpool = nn.AdaptiveAvgPool2d((6, 6))\n",
        "        self.classifier = nn.Sequential(\n",
        "            nn.Dropout(0.5),\n",
        "            nn.Linear(256 * 1 * 1, 256),\n",
        "            nn.ReLU(inplace=True),\n",
        "            nn.Dropout(0.5),\n",
        "            nn.Linear(256, 256),\n",
        "            nn.ReLU(inplace=True),\n",
        "            nn.Linear(256, num_classes),\n",
        "            nn.ReLU(inplace=True),\n",
        "        )\n",
        "\n",
        "    def forward(self, x):\n",
        "        x = self.features(x)\n",
        "        # x = self.avgpool(x)\n",
        "        x = x.view(x.size(0), 256 * 1 * 1)\n",
        "        logits = self.classifier(x)\n",
        "        probas = F.softmax(logits, dim=1)\n",
        "        return logits\n",
        "\n",
        "    def output(self, x):\n",
        "        out = self.features(x)\n",
        "        # out = self.avgpool(out)\n",
        "        out = out.view(out.size(0), 256 * 1 * 1)\n",
        "        out = self.classifier(out)\n",
        "        return out"
      ]
    },
    {
      "cell_type": "code",
      "execution_count": null,
      "metadata": {
        "id": "_lza9t_uj5w1"
      },
      "outputs": [],
      "source": [
        "torch.manual_seed(RANDOM_SEED)\n",
        "\n",
        "model = AlexNet(NUM_CLASSES)\n",
        "model.to(DEVICE)\n",
        "\n",
        "optimizer = torch.optim.Adam(model.parameters(), lr=LEARNING_RATE)  "
      ]
    },
    {
      "cell_type": "markdown",
      "metadata": {
        "id": "RAodboScj5w6"
      },
      "source": [
        "## Training"
      ]
    },
    {
      "cell_type": "code",
      "execution_count": null,
      "metadata": {
        "colab": {
          "base_uri": "https://localhost:8080/"
        },
        "id": "Dzh3ROmRj5w7",
        "outputId": "a5a544b5-8398-48d0-e83e-d94aa3b49b33"
      },
      "outputs": [
        {
          "output_type": "stream",
          "name": "stdout",
          "text": [
            "Epoch: 001/040 | Batch 0000/0175 | Loss: 2.3041\n",
            "Epoch: 001/040 | Batch 0025/0175 | Loss: 2.3019\n",
            "Epoch: 001/040 | Batch 0050/0175 | Loss: 2.3020\n",
            "Epoch: 001/040 | Batch 0075/0175 | Loss: 2.2831\n",
            "Epoch: 001/040 | Batch 0100/0175 | Loss: 2.1989\n",
            "Epoch: 001/040 | Batch 0125/0175 | Loss: 2.1411\n",
            "Epoch: 001/040 | Batch 0150/0175 | Loss: 2.1854\n",
            "***Epoch: 001/040 | Train. Acc.: 18.594% | Loss: 2.036\n",
            "***Epoch: 001/040 | Valid. Acc.: 19.580% | Loss: 2.021\n",
            "Time elapsed: 1.57 min\n",
            "Epoch: 002/040 | Batch 0000/0175 | Loss: 2.0668\n",
            "Epoch: 002/040 | Batch 0025/0175 | Loss: 2.0161\n",
            "Epoch: 002/040 | Batch 0050/0175 | Loss: 2.0378\n",
            "Epoch: 002/040 | Batch 0075/0175 | Loss: 2.0670\n",
            "Epoch: 002/040 | Batch 0100/0175 | Loss: 1.9796\n",
            "Epoch: 002/040 | Batch 0125/0175 | Loss: 2.0413\n",
            "Epoch: 002/040 | Batch 0150/0175 | Loss: 1.9982\n",
            "***Epoch: 002/040 | Train. Acc.: 20.391% | Loss: 1.958\n",
            "***Epoch: 002/040 | Valid. Acc.: 21.700% | Loss: 1.934\n",
            "Time elapsed: 3.04 min\n",
            "Epoch: 003/040 | Batch 0000/0175 | Loss: 1.9851\n",
            "Epoch: 003/040 | Batch 0025/0175 | Loss: 2.0006\n",
            "Epoch: 003/040 | Batch 0050/0175 | Loss: 1.9627\n",
            "Epoch: 003/040 | Batch 0075/0175 | Loss: 1.9946\n",
            "Epoch: 003/040 | Batch 0100/0175 | Loss: 1.9556\n",
            "Epoch: 003/040 | Batch 0125/0175 | Loss: 1.9356\n",
            "Epoch: 003/040 | Batch 0150/0175 | Loss: 1.9684\n",
            "***Epoch: 003/040 | Train. Acc.: 20.373% | Loss: 1.951\n",
            "***Epoch: 003/040 | Valid. Acc.: 21.140% | Loss: 1.929\n",
            "Time elapsed: 4.50 min\n",
            "Epoch: 004/040 | Batch 0000/0175 | Loss: 1.9286\n",
            "Epoch: 004/040 | Batch 0025/0175 | Loss: 1.8838\n",
            "Epoch: 004/040 | Batch 0050/0175 | Loss: 1.9652\n",
            "Epoch: 004/040 | Batch 0075/0175 | Loss: 1.9861\n",
            "Epoch: 004/040 | Batch 0100/0175 | Loss: 1.9683\n",
            "Epoch: 004/040 | Batch 0125/0175 | Loss: 1.9471\n",
            "Epoch: 004/040 | Batch 0150/0175 | Loss: 1.9430\n",
            "***Epoch: 004/040 | Train. Acc.: 22.509% | Loss: 1.927\n",
            "***Epoch: 004/040 | Valid. Acc.: 23.800% | Loss: 1.903\n",
            "Time elapsed: 5.97 min\n",
            "Epoch: 005/040 | Batch 0000/0175 | Loss: 1.9411\n",
            "Epoch: 005/040 | Batch 0025/0175 | Loss: 1.9434\n",
            "Epoch: 005/040 | Batch 0050/0175 | Loss: 1.9729\n",
            "Epoch: 005/040 | Batch 0075/0175 | Loss: 1.9839\n",
            "Epoch: 005/040 | Batch 0100/0175 | Loss: 1.9404\n",
            "Epoch: 005/040 | Batch 0125/0175 | Loss: 1.9201\n",
            "Epoch: 005/040 | Batch 0150/0175 | Loss: 1.8927\n",
            "***Epoch: 005/040 | Train. Acc.: 21.143% | Loss: 1.908\n",
            "***Epoch: 005/040 | Valid. Acc.: 20.860% | Loss: 1.887\n",
            "Time elapsed: 7.43 min\n",
            "Epoch: 006/040 | Batch 0000/0175 | Loss: 1.9846\n",
            "Epoch: 006/040 | Batch 0025/0175 | Loss: 1.9441\n",
            "Epoch: 006/040 | Batch 0050/0175 | Loss: 1.9149\n",
            "Epoch: 006/040 | Batch 0075/0175 | Loss: 1.9408\n",
            "Epoch: 006/040 | Batch 0100/0175 | Loss: 1.9031\n",
            "Epoch: 006/040 | Batch 0125/0175 | Loss: 1.9517\n",
            "Epoch: 006/040 | Batch 0150/0175 | Loss: 1.9191\n",
            "***Epoch: 006/040 | Train. Acc.: 22.297% | Loss: 1.899\n",
            "***Epoch: 006/040 | Valid. Acc.: 22.960% | Loss: 1.873\n",
            "Time elapsed: 8.91 min\n",
            "Epoch: 007/040 | Batch 0000/0175 | Loss: 1.8739\n",
            "Epoch: 007/040 | Batch 0025/0175 | Loss: 1.8822\n",
            "Epoch: 007/040 | Batch 0050/0175 | Loss: 1.9190\n",
            "Epoch: 007/040 | Batch 0075/0175 | Loss: 1.8761\n",
            "Epoch: 007/040 | Batch 0100/0175 | Loss: 1.9636\n",
            "Epoch: 007/040 | Batch 0125/0175 | Loss: 1.8902\n",
            "Epoch: 007/040 | Batch 0150/0175 | Loss: 1.9655\n",
            "***Epoch: 007/040 | Train. Acc.: 22.375% | Loss: 1.896\n",
            "***Epoch: 007/040 | Valid. Acc.: 22.320% | Loss: 1.873\n",
            "Time elapsed: 10.37 min\n",
            "Epoch: 008/040 | Batch 0000/0175 | Loss: 1.9182\n",
            "Epoch: 008/040 | Batch 0025/0175 | Loss: 1.9141\n",
            "Epoch: 008/040 | Batch 0050/0175 | Loss: 1.9736\n",
            "Epoch: 008/040 | Batch 0075/0175 | Loss: 1.8636\n",
            "Epoch: 008/040 | Batch 0100/0175 | Loss: 1.8830\n",
            "Epoch: 008/040 | Batch 0125/0175 | Loss: 1.9017\n",
            "Epoch: 008/040 | Batch 0150/0175 | Loss: 1.9239\n",
            "***Epoch: 008/040 | Train. Acc.: 23.022% | Loss: 1.878\n",
            "***Epoch: 008/040 | Valid. Acc.: 23.560% | Loss: 1.854\n",
            "Time elapsed: 11.85 min\n",
            "Epoch: 009/040 | Batch 0000/0175 | Loss: 1.8982\n",
            "Epoch: 009/040 | Batch 0025/0175 | Loss: 1.8486\n",
            "Epoch: 009/040 | Batch 0050/0175 | Loss: 1.8970\n",
            "Epoch: 009/040 | Batch 0075/0175 | Loss: 1.9694\n",
            "Epoch: 009/040 | Batch 0100/0175 | Loss: 1.8958\n",
            "Epoch: 009/040 | Batch 0125/0175 | Loss: 1.9432\n",
            "Epoch: 009/040 | Batch 0150/0175 | Loss: 1.9115\n",
            "***Epoch: 009/040 | Train. Acc.: 24.306% | Loss: 1.875\n",
            "***Epoch: 009/040 | Valid. Acc.: 25.080% | Loss: 1.850\n",
            "Time elapsed: 13.31 min\n",
            "Epoch: 010/040 | Batch 0000/0175 | Loss: 1.8378\n",
            "Epoch: 010/040 | Batch 0025/0175 | Loss: 1.9649\n",
            "Epoch: 010/040 | Batch 0050/0175 | Loss: 1.9152\n",
            "Epoch: 010/040 | Batch 0075/0175 | Loss: 1.9445\n",
            "Epoch: 010/040 | Batch 0100/0175 | Loss: 1.9098\n",
            "Epoch: 010/040 | Batch 0125/0175 | Loss: 1.8362\n",
            "Epoch: 010/040 | Batch 0150/0175 | Loss: 1.9067\n",
            "***Epoch: 010/040 | Train. Acc.: 25.145% | Loss: 1.858\n",
            "***Epoch: 010/040 | Valid. Acc.: 25.760% | Loss: 1.832\n",
            "Time elapsed: 14.78 min\n",
            "Epoch: 011/040 | Batch 0000/0175 | Loss: 1.8345\n",
            "Epoch: 011/040 | Batch 0025/0175 | Loss: 1.8404\n",
            "Epoch: 011/040 | Batch 0050/0175 | Loss: 1.9749\n",
            "Epoch: 011/040 | Batch 0075/0175 | Loss: 1.8593\n",
            "Epoch: 011/040 | Batch 0100/0175 | Loss: 1.8297\n",
            "Epoch: 011/040 | Batch 0125/0175 | Loss: 1.7910\n",
            "Epoch: 011/040 | Batch 0150/0175 | Loss: 1.8590\n",
            "***Epoch: 011/040 | Train. Acc.: 26.549% | Loss: 1.832\n",
            "***Epoch: 011/040 | Valid. Acc.: 27.140% | Loss: 1.806\n",
            "Time elapsed: 16.24 min\n",
            "Epoch: 012/040 | Batch 0000/0175 | Loss: 1.8849\n",
            "Epoch: 012/040 | Batch 0025/0175 | Loss: 1.8419\n",
            "Epoch: 012/040 | Batch 0050/0175 | Loss: 1.8082\n",
            "Epoch: 012/040 | Batch 0075/0175 | Loss: 1.8244\n",
            "Epoch: 012/040 | Batch 0100/0175 | Loss: 1.8376\n",
            "Epoch: 012/040 | Batch 0125/0175 | Loss: 1.8136\n",
            "Epoch: 012/040 | Batch 0150/0175 | Loss: 1.8595\n",
            "***Epoch: 012/040 | Train. Acc.: 27.853% | Loss: 1.816\n",
            "***Epoch: 012/040 | Valid. Acc.: 28.480% | Loss: 1.785\n",
            "Time elapsed: 17.69 min\n",
            "Epoch: 013/040 | Batch 0000/0175 | Loss: 1.8113\n",
            "Epoch: 013/040 | Batch 0025/0175 | Loss: 1.8015\n",
            "Epoch: 013/040 | Batch 0050/0175 | Loss: 1.8689\n",
            "Epoch: 013/040 | Batch 0075/0175 | Loss: 1.8563\n",
            "Epoch: 013/040 | Batch 0100/0175 | Loss: 1.8519\n",
            "Epoch: 013/040 | Batch 0125/0175 | Loss: 1.7190\n",
            "Epoch: 013/040 | Batch 0150/0175 | Loss: 1.7969\n",
            "***Epoch: 013/040 | Train. Acc.: 28.507% | Loss: 1.793\n",
            "***Epoch: 013/040 | Valid. Acc.: 28.860% | Loss: 1.770\n",
            "Time elapsed: 19.16 min\n",
            "Epoch: 014/040 | Batch 0000/0175 | Loss: 1.8346\n",
            "Epoch: 014/040 | Batch 0025/0175 | Loss: 1.8175\n",
            "Epoch: 014/040 | Batch 0050/0175 | Loss: 1.8770\n",
            "Epoch: 014/040 | Batch 0075/0175 | Loss: 1.7803\n",
            "Epoch: 014/040 | Batch 0100/0175 | Loss: 1.7497\n",
            "Epoch: 014/040 | Batch 0125/0175 | Loss: 1.7969\n",
            "Epoch: 014/040 | Batch 0150/0175 | Loss: 1.7072\n",
            "***Epoch: 014/040 | Train. Acc.: 30.373% | Loss: 1.753\n",
            "***Epoch: 014/040 | Valid. Acc.: 31.240% | Loss: 1.724\n",
            "Time elapsed: 20.65 min\n",
            "Epoch: 015/040 | Batch 0000/0175 | Loss: 1.7910\n",
            "Epoch: 015/040 | Batch 0025/0175 | Loss: 1.8015\n",
            "Epoch: 015/040 | Batch 0050/0175 | Loss: 1.7099\n",
            "Epoch: 015/040 | Batch 0075/0175 | Loss: 1.8191\n",
            "Epoch: 015/040 | Batch 0100/0175 | Loss: 1.7703\n",
            "Epoch: 015/040 | Batch 0125/0175 | Loss: 1.7247\n",
            "Epoch: 015/040 | Batch 0150/0175 | Loss: 1.6820\n",
            "***Epoch: 015/040 | Train. Acc.: 31.000% | Loss: 1.738\n",
            "***Epoch: 015/040 | Valid. Acc.: 31.940% | Loss: 1.705\n",
            "Time elapsed: 22.09 min\n",
            "Epoch: 016/040 | Batch 0000/0175 | Loss: 1.7636\n",
            "Epoch: 016/040 | Batch 0025/0175 | Loss: 1.7047\n",
            "Epoch: 016/040 | Batch 0050/0175 | Loss: 1.7356\n",
            "Epoch: 016/040 | Batch 0075/0175 | Loss: 1.7138\n",
            "Epoch: 016/040 | Batch 0100/0175 | Loss: 1.7053\n",
            "Epoch: 016/040 | Batch 0125/0175 | Loss: 1.6571\n",
            "Epoch: 016/040 | Batch 0150/0175 | Loss: 1.7483\n",
            "***Epoch: 016/040 | Train. Acc.: 32.449% | Loss: 1.703\n",
            "***Epoch: 016/040 | Valid. Acc.: 33.360% | Loss: 1.670\n",
            "Time elapsed: 23.53 min\n",
            "Epoch: 017/040 | Batch 0000/0175 | Loss: 1.6940\n",
            "Epoch: 017/040 | Batch 0025/0175 | Loss: 1.7204\n",
            "Epoch: 017/040 | Batch 0050/0175 | Loss: 1.7551\n",
            "Epoch: 017/040 | Batch 0075/0175 | Loss: 1.6767\n",
            "Epoch: 017/040 | Batch 0100/0175 | Loss: 1.6072\n",
            "Epoch: 017/040 | Batch 0125/0175 | Loss: 1.7309\n",
            "Epoch: 017/040 | Batch 0150/0175 | Loss: 1.7292\n",
            "***Epoch: 017/040 | Train. Acc.: 31.658% | Loss: 1.717\n",
            "***Epoch: 017/040 | Valid. Acc.: 32.240% | Loss: 1.693\n",
            "Time elapsed: 24.99 min\n",
            "Epoch: 018/040 | Batch 0000/0175 | Loss: 1.8015\n",
            "Epoch: 018/040 | Batch 0025/0175 | Loss: 1.7072\n",
            "Epoch: 018/040 | Batch 0050/0175 | Loss: 1.6683\n",
            "Epoch: 018/040 | Batch 0075/0175 | Loss: 1.6805\n",
            "Epoch: 018/040 | Batch 0100/0175 | Loss: 1.6946\n",
            "Epoch: 018/040 | Batch 0125/0175 | Loss: 1.6347\n",
            "Epoch: 018/040 | Batch 0150/0175 | Loss: 1.6964\n",
            "***Epoch: 018/040 | Train. Acc.: 33.904% | Loss: 1.666\n",
            "***Epoch: 018/040 | Valid. Acc.: 34.820% | Loss: 1.632\n",
            "Time elapsed: 26.44 min\n",
            "Epoch: 019/040 | Batch 0000/0175 | Loss: 1.7679\n",
            "Epoch: 019/040 | Batch 0025/0175 | Loss: 1.7021\n",
            "Epoch: 019/040 | Batch 0050/0175 | Loss: 1.6792\n",
            "Epoch: 019/040 | Batch 0075/0175 | Loss: 1.8053\n",
            "Epoch: 019/040 | Batch 0100/0175 | Loss: 1.7219\n",
            "Epoch: 019/040 | Batch 0125/0175 | Loss: 1.5675\n",
            "Epoch: 019/040 | Batch 0150/0175 | Loss: 1.6782\n",
            "***Epoch: 019/040 | Train. Acc.: 35.208% | Loss: 1.657\n",
            "***Epoch: 019/040 | Valid. Acc.: 35.800% | Loss: 1.624\n",
            "Time elapsed: 27.88 min\n",
            "Epoch: 020/040 | Batch 0000/0175 | Loss: 1.6674\n",
            "Epoch: 020/040 | Batch 0025/0175 | Loss: 1.7401\n",
            "Epoch: 020/040 | Batch 0050/0175 | Loss: 1.7591\n",
            "Epoch: 020/040 | Batch 0075/0175 | Loss: 1.6471\n",
            "Epoch: 020/040 | Batch 0100/0175 | Loss: 1.6740\n",
            "Epoch: 020/040 | Batch 0125/0175 | Loss: 1.6734\n",
            "Epoch: 020/040 | Batch 0150/0175 | Loss: 1.6314\n",
            "***Epoch: 020/040 | Train. Acc.: 35.580% | Loss: 1.633\n",
            "***Epoch: 020/040 | Valid. Acc.: 36.580% | Loss: 1.592\n",
            "Time elapsed: 29.33 min\n",
            "Epoch: 021/040 | Batch 0000/0175 | Loss: 1.7020\n",
            "Epoch: 021/040 | Batch 0025/0175 | Loss: 1.6762\n",
            "Epoch: 021/040 | Batch 0050/0175 | Loss: 1.6141\n",
            "Epoch: 021/040 | Batch 0075/0175 | Loss: 1.7145\n",
            "Epoch: 021/040 | Batch 0100/0175 | Loss: 1.5368\n",
            "Epoch: 021/040 | Batch 0125/0175 | Loss: 1.6222\n",
            "Epoch: 021/040 | Batch 0150/0175 | Loss: 1.6575\n",
            "***Epoch: 021/040 | Train. Acc.: 36.645% | Loss: 1.621\n",
            "***Epoch: 021/040 | Valid. Acc.: 38.260% | Loss: 1.581\n",
            "Time elapsed: 30.78 min\n",
            "Epoch: 022/040 | Batch 0000/0175 | Loss: 1.6435\n",
            "Epoch: 022/040 | Batch 0025/0175 | Loss: 1.6901\n",
            "Epoch: 022/040 | Batch 0050/0175 | Loss: 1.7054\n",
            "Epoch: 022/040 | Batch 0075/0175 | Loss: 1.5253\n",
            "Epoch: 022/040 | Batch 0100/0175 | Loss: 1.6648\n",
            "Epoch: 022/040 | Batch 0125/0175 | Loss: 1.6151\n",
            "Epoch: 022/040 | Batch 0150/0175 | Loss: 1.6098\n",
            "***Epoch: 022/040 | Train. Acc.: 36.924% | Loss: 1.621\n",
            "***Epoch: 022/040 | Valid. Acc.: 38.140% | Loss: 1.580\n",
            "Time elapsed: 32.24 min\n",
            "Epoch: 023/040 | Batch 0000/0175 | Loss: 1.6313\n",
            "Epoch: 023/040 | Batch 0025/0175 | Loss: 1.6546\n",
            "Epoch: 023/040 | Batch 0050/0175 | Loss: 1.5819\n",
            "Epoch: 023/040 | Batch 0075/0175 | Loss: 1.6194\n",
            "Epoch: 023/040 | Batch 0100/0175 | Loss: 1.6048\n",
            "Epoch: 023/040 | Batch 0125/0175 | Loss: 1.6914\n",
            "Epoch: 023/040 | Batch 0150/0175 | Loss: 1.6777\n",
            "***Epoch: 023/040 | Train. Acc.: 37.913% | Loss: 1.594\n",
            "***Epoch: 023/040 | Valid. Acc.: 39.820% | Loss: 1.551\n",
            "Time elapsed: 33.68 min\n",
            "Epoch: 024/040 | Batch 0000/0175 | Loss: 1.5740\n",
            "Epoch: 024/040 | Batch 0025/0175 | Loss: 1.5634\n",
            "Epoch: 024/040 | Batch 0050/0175 | Loss: 1.5935\n",
            "Epoch: 024/040 | Batch 0075/0175 | Loss: 1.5636\n",
            "Epoch: 024/040 | Batch 0100/0175 | Loss: 1.6222\n",
            "Epoch: 024/040 | Batch 0125/0175 | Loss: 1.6856\n",
            "Epoch: 024/040 | Batch 0150/0175 | Loss: 1.7223\n",
            "***Epoch: 024/040 | Train. Acc.: 38.366% | Loss: 1.580\n",
            "***Epoch: 024/040 | Valid. Acc.: 39.880% | Loss: 1.539\n",
            "Time elapsed: 35.13 min\n",
            "Epoch: 025/040 | Batch 0000/0175 | Loss: 1.6347\n",
            "Epoch: 025/040 | Batch 0025/0175 | Loss: 1.7141\n",
            "Epoch: 025/040 | Batch 0050/0175 | Loss: 1.6674\n",
            "Epoch: 025/040 | Batch 0075/0175 | Loss: 1.5614\n",
            "Epoch: 025/040 | Batch 0100/0175 | Loss: 1.5890\n",
            "Epoch: 025/040 | Batch 0125/0175 | Loss: 1.5235\n",
            "Epoch: 025/040 | Batch 0150/0175 | Loss: 1.6262\n",
            "***Epoch: 025/040 | Train. Acc.: 38.451% | Loss: 1.573\n",
            "***Epoch: 025/040 | Valid. Acc.: 39.780% | Loss: 1.536\n",
            "Time elapsed: 36.57 min\n",
            "Epoch: 026/040 | Batch 0000/0175 | Loss: 1.4971\n",
            "Epoch: 026/040 | Batch 0025/0175 | Loss: 1.5565\n",
            "Epoch: 026/040 | Batch 0050/0175 | Loss: 1.6275\n",
            "Epoch: 026/040 | Batch 0075/0175 | Loss: 1.6087\n",
            "Epoch: 026/040 | Batch 0100/0175 | Loss: 1.5881\n",
            "Epoch: 026/040 | Batch 0125/0175 | Loss: 1.5556\n",
            "Epoch: 026/040 | Batch 0150/0175 | Loss: 1.7287\n",
            "***Epoch: 026/040 | Train. Acc.: 38.913% | Loss: 1.569\n",
            "***Epoch: 026/040 | Valid. Acc.: 40.360% | Loss: 1.533\n",
            "Time elapsed: 38.01 min\n",
            "Epoch: 027/040 | Batch 0000/0175 | Loss: 1.6331\n",
            "Epoch: 027/040 | Batch 0025/0175 | Loss: 1.6210\n",
            "Epoch: 027/040 | Batch 0050/0175 | Loss: 1.5689\n",
            "Epoch: 027/040 | Batch 0075/0175 | Loss: 1.5029\n",
            "Epoch: 027/040 | Batch 0100/0175 | Loss: 1.5878\n",
            "Epoch: 027/040 | Batch 0125/0175 | Loss: 1.6398\n",
            "Epoch: 027/040 | Batch 0150/0175 | Loss: 1.5908\n",
            "***Epoch: 027/040 | Train. Acc.: 39.882% | Loss: 1.552\n",
            "***Epoch: 027/040 | Valid. Acc.: 40.880% | Loss: 1.517\n",
            "Time elapsed: 39.50 min\n",
            "Epoch: 028/040 | Batch 0000/0175 | Loss: 1.6028\n",
            "Epoch: 028/040 | Batch 0025/0175 | Loss: 1.5636\n",
            "Epoch: 028/040 | Batch 0050/0175 | Loss: 1.6409\n",
            "Epoch: 028/040 | Batch 0075/0175 | Loss: 1.5268\n",
            "Epoch: 028/040 | Batch 0100/0175 | Loss: 1.6008\n",
            "Epoch: 028/040 | Batch 0125/0175 | Loss: 1.4919\n",
            "Epoch: 028/040 | Batch 0150/0175 | Loss: 1.5058\n",
            "***Epoch: 028/040 | Train. Acc.: 40.895% | Loss: 1.522\n",
            "***Epoch: 028/040 | Valid. Acc.: 42.640% | Loss: 1.488\n",
            "Time elapsed: 40.96 min\n",
            "Epoch: 029/040 | Batch 0000/0175 | Loss: 1.5757\n",
            "Epoch: 029/040 | Batch 0025/0175 | Loss: 1.6301\n",
            "Epoch: 029/040 | Batch 0050/0175 | Loss: 1.5774\n",
            "Epoch: 029/040 | Batch 0075/0175 | Loss: 1.5888\n",
            "Epoch: 029/040 | Batch 0100/0175 | Loss: 1.5816\n",
            "Epoch: 029/040 | Batch 0125/0175 | Loss: 1.6475\n",
            "Epoch: 029/040 | Batch 0150/0175 | Loss: 1.4579\n",
            "***Epoch: 029/040 | Train. Acc.: 41.132% | Loss: 1.534\n",
            "***Epoch: 029/040 | Valid. Acc.: 42.580% | Loss: 1.494\n",
            "Time elapsed: 42.41 min\n",
            "Epoch: 030/040 | Batch 0000/0175 | Loss: 1.5973\n",
            "Epoch: 030/040 | Batch 0025/0175 | Loss: 1.5000\n",
            "Epoch: 030/040 | Batch 0050/0175 | Loss: 1.4807\n",
            "Epoch: 030/040 | Batch 0075/0175 | Loss: 1.5092\n",
            "Epoch: 030/040 | Batch 0100/0175 | Loss: 1.5227\n",
            "Epoch: 030/040 | Batch 0125/0175 | Loss: 1.5676\n",
            "Epoch: 030/040 | Batch 0150/0175 | Loss: 1.6919\n",
            "***Epoch: 030/040 | Train. Acc.: 42.112% | Loss: 1.501\n",
            "***Epoch: 030/040 | Valid. Acc.: 43.220% | Loss: 1.472\n",
            "Time elapsed: 43.88 min\n",
            "Epoch: 031/040 | Batch 0000/0175 | Loss: 1.5447\n",
            "Epoch: 031/040 | Batch 0025/0175 | Loss: 1.5235\n",
            "Epoch: 031/040 | Batch 0050/0175 | Loss: 1.5209\n",
            "Epoch: 031/040 | Batch 0075/0175 | Loss: 1.5528\n",
            "Epoch: 031/040 | Batch 0100/0175 | Loss: 1.5078\n",
            "Epoch: 031/040 | Batch 0125/0175 | Loss: 1.5202\n",
            "Epoch: 031/040 | Batch 0150/0175 | Loss: 1.4998\n",
            "***Epoch: 031/040 | Train. Acc.: 39.375% | Loss: 1.584\n",
            "***Epoch: 031/040 | Valid. Acc.: 40.700% | Loss: 1.545\n",
            "Time elapsed: 45.35 min\n",
            "Epoch: 032/040 | Batch 0000/0175 | Loss: 1.6111\n",
            "Epoch: 032/040 | Batch 0025/0175 | Loss: 1.5298\n",
            "Epoch: 032/040 | Batch 0050/0175 | Loss: 1.5976\n",
            "Epoch: 032/040 | Batch 0075/0175 | Loss: 1.4835\n",
            "Epoch: 032/040 | Batch 0100/0175 | Loss: 1.5094\n",
            "Epoch: 032/040 | Batch 0125/0175 | Loss: 1.6261\n",
            "Epoch: 032/040 | Batch 0150/0175 | Loss: 1.4358\n",
            "***Epoch: 032/040 | Train. Acc.: 41.960% | Loss: 1.500\n",
            "***Epoch: 032/040 | Valid. Acc.: 43.140% | Loss: 1.470\n",
            "Time elapsed: 46.81 min\n",
            "Epoch: 033/040 | Batch 0000/0175 | Loss: 1.6129\n",
            "Epoch: 033/040 | Batch 0025/0175 | Loss: 1.5686\n",
            "Epoch: 033/040 | Batch 0050/0175 | Loss: 1.5937\n",
            "Epoch: 033/040 | Batch 0075/0175 | Loss: 1.4736\n",
            "Epoch: 033/040 | Batch 0100/0175 | Loss: 1.5087\n",
            "Epoch: 033/040 | Batch 0125/0175 | Loss: 1.4836\n",
            "Epoch: 033/040 | Batch 0150/0175 | Loss: 1.6132\n",
            "***Epoch: 033/040 | Train. Acc.: 42.897% | Loss: 1.479\n",
            "***Epoch: 033/040 | Valid. Acc.: 44.480% | Loss: 1.444\n",
            "Time elapsed: 48.27 min\n",
            "Epoch: 034/040 | Batch 0000/0175 | Loss: 1.5154\n",
            "Epoch: 034/040 | Batch 0025/0175 | Loss: 1.4244\n",
            "Epoch: 034/040 | Batch 0050/0175 | Loss: 1.5686\n",
            "Epoch: 034/040 | Batch 0075/0175 | Loss: 1.5528\n",
            "Epoch: 034/040 | Batch 0100/0175 | Loss: 1.4970\n",
            "Epoch: 034/040 | Batch 0125/0175 | Loss: 1.5262\n",
            "Epoch: 034/040 | Batch 0150/0175 | Loss: 1.5695\n",
            "***Epoch: 034/040 | Train. Acc.: 44.449% | Loss: 1.455\n",
            "***Epoch: 034/040 | Valid. Acc.: 46.080% | Loss: 1.422\n",
            "Time elapsed: 49.73 min\n",
            "Epoch: 035/040 | Batch 0000/0175 | Loss: 1.3908\n",
            "Epoch: 035/040 | Batch 0025/0175 | Loss: 1.4891\n",
            "Epoch: 035/040 | Batch 0050/0175 | Loss: 1.4542\n",
            "Epoch: 035/040 | Batch 0075/0175 | Loss: 1.5232\n",
            "Epoch: 035/040 | Batch 0100/0175 | Loss: 1.4696\n",
            "Epoch: 035/040 | Batch 0125/0175 | Loss: 1.4292\n",
            "Epoch: 035/040 | Batch 0150/0175 | Loss: 1.4350\n",
            "***Epoch: 035/040 | Train. Acc.: 42.507% | Loss: 1.523\n",
            "***Epoch: 035/040 | Valid. Acc.: 44.500% | Loss: 1.476\n",
            "Time elapsed: 51.19 min\n",
            "Epoch: 036/040 | Batch 0000/0175 | Loss: 1.6442\n",
            "Epoch: 036/040 | Batch 0025/0175 | Loss: 1.3948\n",
            "Epoch: 036/040 | Batch 0050/0175 | Loss: 1.4059\n",
            "Epoch: 036/040 | Batch 0075/0175 | Loss: 1.5046\n",
            "Epoch: 036/040 | Batch 0100/0175 | Loss: 1.4979\n",
            "Epoch: 036/040 | Batch 0125/0175 | Loss: 1.3747\n",
            "Epoch: 036/040 | Batch 0150/0175 | Loss: 1.3602\n",
            "***Epoch: 036/040 | Train. Acc.: 45.163% | Loss: 1.438\n",
            "***Epoch: 036/040 | Valid. Acc.: 46.660% | Loss: 1.403\n",
            "Time elapsed: 52.65 min\n",
            "Epoch: 037/040 | Batch 0000/0175 | Loss: 1.3241\n",
            "Epoch: 037/040 | Batch 0025/0175 | Loss: 1.4329\n",
            "Epoch: 037/040 | Batch 0050/0175 | Loss: 1.4977\n",
            "Epoch: 037/040 | Batch 0075/0175 | Loss: 1.5246\n",
            "Epoch: 037/040 | Batch 0100/0175 | Loss: 1.5072\n",
            "Epoch: 037/040 | Batch 0125/0175 | Loss: 1.6549\n",
            "Epoch: 037/040 | Batch 0150/0175 | Loss: 1.6081\n",
            "***Epoch: 037/040 | Train. Acc.: 46.121% | Loss: 1.423\n",
            "***Epoch: 037/040 | Valid. Acc.: 47.340% | Loss: 1.398\n",
            "Time elapsed: 54.13 min\n",
            "Epoch: 038/040 | Batch 0000/0175 | Loss: 1.4942\n",
            "Epoch: 038/040 | Batch 0025/0175 | Loss: 1.5233\n",
            "Epoch: 038/040 | Batch 0050/0175 | Loss: 1.3430\n",
            "Epoch: 038/040 | Batch 0075/0175 | Loss: 1.4502\n",
            "Epoch: 038/040 | Batch 0100/0175 | Loss: 1.4937\n",
            "Epoch: 038/040 | Batch 0125/0175 | Loss: 1.4585\n",
            "Epoch: 038/040 | Batch 0150/0175 | Loss: 1.4989\n",
            "***Epoch: 038/040 | Train. Acc.: 46.071% | Loss: 1.417\n",
            "***Epoch: 038/040 | Valid. Acc.: 46.320% | Loss: 1.386\n",
            "Time elapsed: 55.58 min\n",
            "Epoch: 039/040 | Batch 0000/0175 | Loss: 1.4622\n",
            "Epoch: 039/040 | Batch 0025/0175 | Loss: 1.4220\n",
            "Epoch: 039/040 | Batch 0050/0175 | Loss: 1.3897\n",
            "Epoch: 039/040 | Batch 0075/0175 | Loss: 1.3550\n",
            "Epoch: 039/040 | Batch 0100/0175 | Loss: 1.4514\n",
            "Epoch: 039/040 | Batch 0125/0175 | Loss: 1.5265\n",
            "Epoch: 039/040 | Batch 0150/0175 | Loss: 1.5095\n",
            "***Epoch: 039/040 | Train. Acc.: 47.301% | Loss: 1.399\n",
            "***Epoch: 039/040 | Valid. Acc.: 48.720% | Loss: 1.365\n",
            "Time elapsed: 57.03 min\n",
            "Epoch: 040/040 | Batch 0000/0175 | Loss: 1.4296\n",
            "Epoch: 040/040 | Batch 0025/0175 | Loss: 1.5650\n",
            "Epoch: 040/040 | Batch 0050/0175 | Loss: 1.4575\n",
            "Epoch: 040/040 | Batch 0075/0175 | Loss: 1.3406\n",
            "Epoch: 040/040 | Batch 0100/0175 | Loss: 1.3714\n",
            "Epoch: 040/040 | Batch 0125/0175 | Loss: 1.3755\n",
            "Epoch: 040/040 | Batch 0150/0175 | Loss: 1.4566\n",
            "***Epoch: 040/040 | Train. Acc.: 46.060% | Loss: 1.435\n",
            "***Epoch: 040/040 | Valid. Acc.: 46.580% | Loss: 1.413\n",
            "Time elapsed: 58.49 min\n",
            "Total Training Time: 58.49 min\n"
          ]
        }
      ],
      "source": [
        "log_dict = train_classifier_simple_v1(num_epochs=NUM_EPOCHS, model=model, \n",
        "                                      optimizer=optimizer, device=DEVICE, \n",
        "                                      train_loader=train_loader, valid_loader=valid_loader, \n",
        "                                      logging_interval=25)"
      ]
    },
    {
      "cell_type": "markdown",
      "metadata": {
        "id": "wV6mEKrkX7OV"
      },
      "source": [
        "## Evaluation"
      ]
    },
    {
      "cell_type": "code",
      "execution_count": null,
      "metadata": {
        "id": "WxGtQCcTX7OV"
      },
      "outputs": [],
      "source": [
        "import matplotlib.pyplot as plt\n",
        "%matplotlib inline\n"
      ]
    },
    {
      "cell_type": "code",
      "execution_count": null,
      "metadata": {
        "colab": {
          "base_uri": "https://localhost:8080/",
          "height": 279
        },
        "id": "D7q7G4h1X7OV",
        "outputId": "c272f41b-a2fa-4735-84bc-35bf2949eb75"
      },
      "outputs": [
        {
          "output_type": "display_data",
          "data": {
            "text/plain": [
              "<Figure size 432x288 with 1 Axes>"
            ],
            "image/png": "[encoded data removed]"
          },
          "metadata": {
            "needs_background": "light"
          }
        }
      ],
      "source": [
        "loss_list = log_dict['train_loss_per_batch']\n",
        "\n",
        "plt.plot(loss_list, label='Minibatch loss')\n",
        "plt.plot(np.convolve(loss_list, \n",
        "                     np.ones(200,)/200, mode='valid'), \n",
        "         label='Running average')\n",
        "\n",
        "plt.ylabel('Cross Entropy')\n",
        "plt.xlabel('Iteration')\n",
        "plt.legend()\n",
        "plt.show()"
      ]
    },
    {
      "cell_type": "code",
      "execution_count": null,
      "metadata": {
        "colab": {
          "base_uri": "https://localhost:8080/",
          "height": 282
        },
        "id": "WhWh4Gh2X7OV",
        "outputId": "5a1bb485-59ab-4812-85f1-71b64d9bb7ef"
      },
      "outputs": [
        {
          "output_type": "display_data",
          "data": {
            "text/plain": [
              "<Figure size 432x288 with 1 Axes>"
            ],
            "image/png": "[encoded data removed]"
          },
          "metadata": {
            "needs_background": "light"
          }
        }
      ],
      "source": [
        "plt.plot(np.arange(1, NUM_EPOCHS+1), log_dict['train_acc_per_epoch'], label='Training')\n",
        "plt.plot(np.arange(1, NUM_EPOCHS+1), log_dict['valid_acc_per_epoch'], label='Validation')\n",
        "\n",
        "plt.xlabel('Epoch')\n",
        "plt.ylabel('Accuracy')\n",
        "plt.legend()\n",
        "plt.show()"
      ]
    },
    {
      "cell_type": "code",
      "execution_count": null,
      "metadata": {
        "colab": {
          "base_uri": "https://localhost:8080/"
        },
        "id": "_ryJ3NnyX7OV",
        "outputId": "de615b35-4cee-4699-9467-61b300018f66"
      },
      "outputs": [
        {
          "output_type": "stream",
          "name": "stdout",
          "text": [
            "Train ACC: 73.52%\n",
            "Validation ACC: 73.52%\n",
            "Test ACC: 72.71%\n"
          ]
        }
      ],
      "source": [
        "with torch.set_grad_enabled(False):\n",
        "    \n",
        "    train_acc = compute_accuracy(model=model,\n",
        "                                 data_loader=test_loader,\n",
        "                                 device=DEVICE)\n",
        "    \n",
        "    test_acc = compute_accuracy(model=model,\n",
        "                                data_loader=test_loader,\n",
        "                                device=DEVICE)\n",
        "    \n",
        "    valid_acc = compute_accuracy(model=model,\n",
        "                                 data_loader=valid_loader,\n",
        "                                 device=DEVICE)\n",
        "    \n",
        "\n",
        "print(f'Train ACC: {valid_acc:.2f}%')\n",
        "print(f'Validation ACC: {valid_acc:.2f}%')\n",
        "print(f'Test ACC: {test_acc:.2f}%')"
      ]
    },
    {
      "cell_type": "code",
      "source": [
        "# Write results to a file so that we can test the C++ accuracy thing\n",
        "with open(\"./preds_AlexNet.txt\", \"w\") as p:\n",
        "    with open(\"./ground_AlexNet.txt\", \"w\") as h:\n",
        "        first = True\n",
        "        for images, labels in test_loader:\n",
        "            # Run the network inference to get the predicted values\n",
        "            pred = sum(model(images.cuda()).cpu().tolist(), [])\n",
        "\n",
        "            # Generate the ground truths\n",
        "            ground = sum([ [ 1 if i == l else 0 for i in range(10) ] for l in labels ], [])\n",
        "\n",
        "            # Append to the files\n",
        "            if first:\n",
        "                first = False\n",
        "            else:\n",
        "                p.write(\" \")\n",
        "                h.write(\" \")\n",
        "            p.write(' '.join([ str(s) for s in pred]))\n",
        "            h.write(' '.join([ str(s) for s in ground]))"
      ],
      "metadata": {
        "id": "R8xZ7iu3uNak"
      },
      "execution_count": null,
      "outputs": []
    },
    {
      "cell_type": "code",
      "source": [
        "# Extract the weights and junk\n",
        "params = [(name, p.data.cpu().numpy()) for (name, p) in model.named_parameters()]"
      ],
      "metadata": {
        "id": "kbulmvs-VD1f"
      },
      "execution_count": null,
      "outputs": []
    },
    {
      "cell_type": "code",
      "source": [
        "# Find a single input batch\n",
        "for images, _ in train_loader:\n",
        "    break\n",
        "\n",
        "# Assert the target directory exists\n",
        "path = \"./preload/AlexNet_CIFAR10\"\n",
        "if not os.path.exists(path):\n",
        "    os.makedirs(path)\n",
        "\n",
        "# Write the used inputs and outputs\n",
        "np.savetxt(fname=f\"{path}/input_0\", delimiter=\" \", X=images.cuda().view(-1, 3 * 33 * 33).tolist())\n",
        "np.savetxt(fname=f\"{path}/outputlayer8_0\", delimiter=\" \", X=model.output(images.cuda().view(-1, 3, 33, 33)).data.cpu().view(-1))\n",
        "\n",
        "# Write the layers we want\n",
        "for (i, resize_to) in enumerate([ (11*11*3, 96), (5*5*96, 256), (3*3*256, 384), (3*3*384, 384), (3*3*384, 256), None, None, None ]):\n",
        "    # Write the layer's weights\n",
        "    if resize_to is not None:\n",
        "        np.savetxt(fname=f\"{path}/weight{i + 1}_0\", delimiter=\" \", X=params[2 * i][1].reshape(resize_to).tolist())\n",
        "    else:\n",
        "        np.savetxt(fname=f\"{path}/weight{i + 1}_0\", delimiter=\" \", X=params[2 * i][1].tolist())\n",
        "\n",
        "    # Write the biases\n",
        "    np.savetxt(fname=f\"{path}/bias{i + 1}_0\", delimiter=\" \", X=params[2 * i + 1][1].tolist())\n"
      ],
      "metadata": {
        "id": "Ycn7SYYO09Xa"
      },
      "execution_count": null,
      "outputs": []
    },
    {
      "cell_type": "code",
      "execution_count": null,
      "metadata": {
        "id": "yd-WpEGdX7OW",
        "outputId": "0342426b-1f07-4333-f486-bbda3f36f720"
      },
      "outputs": [
        {
          "name": "stdout",
          "output_type": "stream",
          "text": [
            "sys        : 3.8.12 | packaged by conda-forge | (default, Oct 12 2021, 21:59:51) \n",
            "[GCC 9.4.0]\n",
            "matplotlib : 3.3.4\n",
            "PIL        : 9.0.1\n",
            "torchvision: 0.11.2\n",
            "numpy      : 1.22.0\n",
            "torch      : 1.10.1\n",
            "pandas     : 1.4.1\n",
            "\n"
          ]
        }
      ],
      "source": [
        "%watermark -iv"
      ]
    },
    {
      "cell_type": "code",
      "execution_count": null,
      "metadata": {
        "id": "LaQqyynpX7OW"
      },
      "outputs": [],
      "source": []
    }
  ],
  "metadata": {
    "accelerator": "GPU",
    "colab": {
      "provenance": []
    },
    "kernelspec": {
      "display_name": "Python 3 (ipykernel)",
      "language": "python",
      "name": "python3"
    },
    "language_info": {
      "codemirror_mode": {
        "name": "ipython",
        "version": 3
      },
      "file_extension": ".py",
      "mimetype": "text/x-python",
      "name": "python",
      "nbconvert_exporter": "python",
      "pygments_lexer": "ipython3",
      "version": "3.10.8"
    },
    "toc": {
      "nav_menu": {},
      "number_sections": true,
      "sideBar": true,
      "skip_h1_title": false,
      "title_cell": "Table of Contents",
      "title_sidebar": "Contents",
      "toc_cell": true,
      "toc_position": {
        "height": "calc(100% - 180px)",
        "left": "10px",
        "top": "150px",
        "width": "371px"
      },
      "toc_section_display": true,
      "toc_window_display": true
    },
    "widgets": {
      "application/vnd.jupyter.widget-state+json": {
        "8dce415995de411caebfef5a966afcae": {
          "model_module": "@jupyter-widgets/controls",
          "model_name": "HBoxModel",
          "model_module_version": "1.5.0",
          "state": {
            "_dom_classes": [],
            "_model_module": "@jupyter-widgets/controls",
            "_model_module_version": "1.5.0",
            "_model_name": "HBoxModel",
            "_view_count": null,
            "_view_module": "@jupyter-widgets/controls",
            "_view_module_version": "1.5.0",
            "_view_name": "HBoxView",
            "box_style": "",
            "children": [
              "IPY_MODEL_c935ab1cecc0431baee8596a297162fc",
              "IPY_MODEL_283320ccfcd1442f97d1742144f05abc",
              "IPY_MODEL_9f0394da24b74282bebe029f4d7d8a5b"
            ],
            "layout": "IPY_MODEL_cd9fba44ceac479ba3b752732f9500f9"
          }
        },
        "c935ab1cecc0431baee8596a297162fc": {
          "model_module": "@jupyter-widgets/controls",
          "model_name": "HTMLModel",
          "model_module_version": "1.5.0",
          "state": {
            "_dom_classes": [],
            "_model_module": "@jupyter-widgets/controls",
            "_model_module_version": "1.5.0",
            "_model_name": "HTMLModel",
            "_view_count": null,
            "_view_module": "@jupyter-widgets/controls",
            "_view_module_version": "1.5.0",
            "_view_name": "HTMLView",
            "description": "",
            "description_tooltip": null,
            "layout": "IPY_MODEL_5f842114a7e649c9bed8b908728d082c",
            "placeholder": "​",
            "style": "IPY_MODEL_5b6b153b6ef34eae972d7b8d74fadfa5",
            "value": "100%"
          }
        },
        "283320ccfcd1442f97d1742144f05abc": {
          "model_module": "@jupyter-widgets/controls",
          "model_name": "FloatProgressModel",
          "model_module_version": "1.5.0",
          "state": {
            "_dom_classes": [],
            "_model_module": "@jupyter-widgets/controls",
            "_model_module_version": "1.5.0",
            "_model_name": "FloatProgressModel",
            "_view_count": null,
            "_view_module": "@jupyter-widgets/controls",
            "_view_module_version": "1.5.0",
            "_view_name": "ProgressView",
            "bar_style": "success",
            "description": "",
            "description_tooltip": null,
            "layout": "IPY_MODEL_35f62f41c1ad47638d8ba81d1a0b4f53",
            "max": 170498071,
            "min": 0,
            "orientation": "horizontal",
            "style": "IPY_MODEL_c5884982df994bce8c31f19fcd1bed50",
            "value": 170498071
          }
        },
        "9f0394da24b74282bebe029f4d7d8a5b": {
          "model_module": "@jupyter-widgets/controls",
          "model_name": "HTMLModel",
          "model_module_version": "1.5.0",
          "state": {
            "_dom_classes": [],
            "_model_module": "@jupyter-widgets/controls",
            "_model_module_version": "1.5.0",
            "_model_name": "HTMLModel",
            "_view_count": null,
            "_view_module": "@jupyter-widgets/controls",
            "_view_module_version": "1.5.0",
            "_view_name": "HTMLView",
            "description": "",
            "description_tooltip": null,
            "layout": "IPY_MODEL_f3b7c75d29d9485dac9531abeae6e60e",
            "placeholder": "​",
            "style": "IPY_MODEL_c83da3a157c54d84837d47c3b5c78cea",
            "value": " 170498071/170498071 [00:05&lt;00:00, 33976701.73it/s]"
          }
        },
        "cd9fba44ceac479ba3b752732f9500f9": {
          "model_module": "@jupyter-widgets/base",
          "model_name": "LayoutModel",
          "model_module_version": "1.2.0",
          "state": {
            "_model_module": "@jupyter-widgets/base",
            "_model_module_version": "1.2.0",
            "_model_name": "LayoutModel",
            "_view_count": null,
            "_view_module": "@jupyter-widgets/base",
            "_view_module_version": "1.2.0",
            "_view_name": "LayoutView",
            "align_content": null,
            "align_items": null,
            "align_self": null,
            "border": null,
            "bottom": null,
            "display": null,
            "flex": null,
            "flex_flow": null,
            "grid_area": null,
            "grid_auto_columns": null,
            "grid_auto_flow": null,
            "grid_auto_rows": null,
            "grid_column": null,
            "grid_gap": null,
            "grid_row": null,
            "grid_template_areas": null,
            "grid_template_columns": null,
            "grid_template_rows": null,
            "height": null,
            "justify_content": null,
            "justify_items": null,
            "left": null,
            "margin": null,
            "max_height": null,
            "max_width": null,
            "min_height": null,
            "min_width": null,
            "object_fit": null,
            "object_position": null,
            "order": null,
            "overflow": null,
            "overflow_x": null,
            "overflow_y": null,
            "padding": null,
            "right": null,
            "top": null,
            "visibility": null,
            "width": null
          }
        },
        "5f842114a7e649c9bed8b908728d082c": {
          "model_module": "@jupyter-widgets/base",
          "model_name": "LayoutModel",
          "model_module_version": "1.2.0",
          "state": {
            "_model_module": "@jupyter-widgets/base",
            "_model_module_version": "1.2.0",
            "_model_name": "LayoutModel",
            "_view_count": null,
            "_view_module": "@jupyter-widgets/base",
            "_view_module_version": "1.2.0",
            "_view_name": "LayoutView",
            "align_content": null,
            "align_items": null,
            "align_self": null,
            "border": null,
            "bottom": null,
            "display": null,
            "flex": null,
            "flex_flow": null,
            "grid_area": null,
            "grid_auto_columns": null,
            "grid_auto_flow": null,
            "grid_auto_rows": null,
            "grid_column": null,
            "grid_gap": null,
            "grid_row": null,
            "grid_template_areas": null,
            "grid_template_columns": null,
            "grid_template_rows": null,
            "height": null,
            "justify_content": null,
            "justify_items": null,
            "left": null,
            "margin": null,
            "max_height": null,
            "max_width": null,
            "min_height": null,
            "min_width": null,
            "object_fit": null,
            "object_position": null,
            "order": null,
            "overflow": null,
            "overflow_x": null,
            "overflow_y": null,
            "padding": null,
            "right": null,
            "top": null,
            "visibility": null,
            "width": null
          }
        },
        "5b6b153b6ef34eae972d7b8d74fadfa5": {
          "model_module": "@jupyter-widgets/controls",
          "model_name": "DescriptionStyleModel",
          "model_module_version": "1.5.0",
          "state": {
            "_model_module": "@jupyter-widgets/controls",
            "_model_module_version": "1.5.0",
            "_model_name": "DescriptionStyleModel",
            "_view_count": null,
            "_view_module": "@jupyter-widgets/base",
            "_view_module_version": "1.2.0",
            "_view_name": "StyleView",
            "description_width": ""
          }
        },
        "35f62f41c1ad47638d8ba81d1a0b4f53": {
          "model_module": "@jupyter-widgets/base",
          "model_name": "LayoutModel",
          "model_module_version": "1.2.0",
          "state": {
            "_model_module": "@jupyter-widgets/base",
            "_model_module_version": "1.2.0",
            "_model_name": "LayoutModel",
            "_view_count": null,
            "_view_module": "@jupyter-widgets/base",
            "_view_module_version": "1.2.0",
            "_view_name": "LayoutView",
            "align_content": null,
            "align_items": null,
            "align_self": null,
            "border": null,
            "bottom": null,
            "display": null,
            "flex": null,
            "flex_flow": null,
            "grid_area": null,
            "grid_auto_columns": null,
            "grid_auto_flow": null,
            "grid_auto_rows": null,
            "grid_column": null,
            "grid_gap": null,
            "grid_row": null,
            "grid_template_areas": null,
            "grid_template_columns": null,
            "grid_template_rows": null,
            "height": null,
            "justify_content": null,
            "justify_items": null,
            "left": null,
            "margin": null,
            "max_height": null,
            "max_width": null,
            "min_height": null,
            "min_width": null,
            "object_fit": null,
            "object_position": null,
            "order": null,
            "overflow": null,
            "overflow_x": null,
            "overflow_y": null,
            "padding": null,
            "right": null,
            "top": null,
            "visibility": null,
            "width": null
          }
        },
        "c5884982df994bce8c31f19fcd1bed50": {
          "model_module": "@jupyter-widgets/controls",
          "model_name": "ProgressStyleModel",
          "model_module_version": "1.5.0",
          "state": {
            "_model_module": "@jupyter-widgets/controls",
            "_model_module_version": "1.5.0",
            "_model_name": "ProgressStyleModel",
            "_view_count": null,
            "_view_module": "@jupyter-widgets/base",
            "_view_module_version": "1.2.0",
            "_view_name": "StyleView",
            "bar_color": null,
            "description_width": ""
          }
        },
        "f3b7c75d29d9485dac9531abeae6e60e": {
          "model_module": "@jupyter-widgets/base",
          "model_name": "LayoutModel",
          "model_module_version": "1.2.0",
          "state": {
            "_model_module": "@jupyter-widgets/base",
            "_model_module_version": "1.2.0",
            "_model_name": "LayoutModel",
            "_view_count": null,
            "_view_module": "@jupyter-widgets/base",
            "_view_module_version": "1.2.0",
            "_view_name": "LayoutView",
            "align_content": null,
            "align_items": null,
            "align_self": null,
            "border": null,
            "bottom": null,
            "display": null,
            "flex": null,
            "flex_flow": null,
            "grid_area": null,
            "grid_auto_columns": null,
            "grid_auto_flow": null,
            "grid_auto_rows": null,
            "grid_column": null,
            "grid_gap": null,
            "grid_row": null,
            "grid_template_areas": null,
            "grid_template_columns": null,
            "grid_template_rows": null,
            "height": null,
            "justify_content": null,
            "justify_items": null,
            "left": null,
            "margin": null,
            "max_height": null,
            "max_width": null,
            "min_height": null,
            "min_width": null,
            "object_fit": null,
            "object_position": null,
            "order": null,
            "overflow": null,
            "overflow_x": null,
            "overflow_y": null,
            "padding": null,
            "right": null,
            "top": null,
            "visibility": null,
            "width": null
          }
        },
        "c83da3a157c54d84837d47c3b5c78cea": {
          "model_module": "@jupyter-widgets/controls",
          "model_name": "DescriptionStyleModel",
          "model_module_version": "1.5.0",
          "state": {
            "_model_module": "@jupyter-widgets/controls",
            "_model_module_version": "1.5.0",
            "_model_name": "DescriptionStyleModel",
            "_view_count": null,
            "_view_module": "@jupyter-widgets/base",
            "_view_module_version": "1.2.0",
            "_view_name": "StyleView",
            "description_width": ""
          }
        }
      }
    },
    "gpuClass": "standard"
  },
  "nbformat": 4,
  "nbformat_minor": 0
}